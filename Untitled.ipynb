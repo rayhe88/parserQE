{
 "cells": [
  {
   "cell_type": "code",
   "execution_count": 1,
   "id": "f79226a2",
   "metadata": {},
   "outputs": [],
   "source": [
    "import numpy as np"
   ]
  },
  {
   "cell_type": "code",
   "execution_count": 45,
   "id": "838f59e1",
   "metadata": {},
   "outputs": [],
   "source": [
    "alat = 14.3146\n",
    "vecA = np.array([1.0, 0.0, 0.0]) * alat\n",
    "vecB = np.array([0.5, 0.866025, 0.0]) * alat\n",
    "vecC = np.array([0.0, 0.0, 3.976691]) * alat"
   ]
  },
  {
   "cell_type": "code",
   "execution_count": 46,
   "id": "d31a8b26",
   "metadata": {},
   "outputs": [
    {
     "name": "stdout",
     "output_type": "stream",
     "text": [
      "Vector a:  [14.3146  0.      0.    ]\n",
      "Vector b:  [ 7.1573     12.39680147  0.        ]\n",
      "Vector c:  [ 0.          0.         56.92474099]\n"
     ]
    }
   ],
   "source": [
    "print(\"Vector a: \",vecA)\n",
    "print(\"Vector b: \",vecB)\n",
    "print(\"Vector c: \",vecC)"
   ]
  },
  {
   "cell_type": "code",
   "execution_count": 47,
   "id": "2a67c592",
   "metadata": {},
   "outputs": [],
   "source": [
    "def volumen(vecA, vecB, vecC):\n",
    "    tmp = np.cross(vecB, vecC)\n",
    "    vol = np.dot(vecA, tmp)\n",
    "    return np.abs(vol)"
   ]
  },
  {
   "cell_type": "code",
   "execution_count": 48,
   "id": "5266495d",
   "metadata": {},
   "outputs": [
    {
     "name": "stdout",
     "output_type": "stream",
     "text": [
      "Volumen  10101.594385298018\n"
     ]
    }
   ],
   "source": [
    "v = volumen(vecA, vecB, vecC)\n",
    "print(\"Volumen \",v)"
   ]
  },
  {
   "cell_type": "code",
   "execution_count": 50,
   "id": "796eb9f2",
   "metadata": {},
   "outputs": [
    {
     "name": "stdout",
     "output_type": "stream",
     "text": [
      "[ 0.06985875 -0.04033298  0.        ]\n",
      "[0.         0.08066597 0.        ]\n",
      "[0.         0.         0.01756705]\n"
     ]
    }
   ],
   "source": [
    "vecB1 = np.cross(vecB, vecC) / v\n",
    "vecB2 = np.cross(vecC, vecA) / v\n",
    "vecB3 = np.cross(vecA, vecB) / v\n",
    "print(vecB1)\n",
    "print(vecB2)\n",
    "print(vecB3)"
   ]
  },
  {
   "cell_type": "code",
   "execution_count": null,
   "id": "9450042a",
   "metadata": {},
   "outputs": [],
   "source": []
  },
  {
   "cell_type": "code",
   "execution_count": null,
   "id": "be5018e6",
   "metadata": {},
   "outputs": [],
   "source": []
  }
 ],
 "metadata": {
  "kernelspec": {
   "display_name": "Python 3 (ipykernel)",
   "language": "python",
   "name": "python3"
  },
  "language_info": {
   "codemirror_mode": {
    "name": "ipython",
    "version": 3
   },
   "file_extension": ".py",
   "mimetype": "text/x-python",
   "name": "python",
   "nbconvert_exporter": "python",
   "pygments_lexer": "ipython3",
   "version": "3.10.6"
  }
 },
 "nbformat": 4,
 "nbformat_minor": 5
}
