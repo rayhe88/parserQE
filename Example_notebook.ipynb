{
 "cells": [
  {
   "cell_type": "code",
   "execution_count": 1,
   "id": "91af8f29",
   "metadata": {},
   "outputs": [],
   "source": [
    "from parserQE.parser import parserQEpwscf, printQE_info"
   ]
  },
  {
   "cell_type": "code",
   "execution_count": 5,
   "id": "267449dd",
   "metadata": {},
   "outputs": [
    {
     "data": {
      "text/plain": [
       "dict_keys(['init', 'status', 'chem', 'profile'])"
      ]
     },
     "execution_count": 5,
     "metadata": {},
     "output_type": "execute_result"
    }
   ],
   "source": [
    "qe = parserQEpwscf(\"data/16.pwo\")\n",
    "qe.keys()\n"
   ]
  },
  {
   "cell_type": "code",
   "execution_count": 6,
   "id": "96785d40",
   "metadata": {},
   "outputs": [
    {
     "name": "stdout",
     "output_type": "stream",
     "text": [
      " STATUS\n",
      " The job is done :  True\n",
      " Iterations      :  1\n",
      " Size in list scf:  1\n",
      " Times in scf    :  [177.1]\n",
      " Name's inp file :  example.pwi\n",
      " Acceleration GPU:  ACTIVE\n",
      "\n",
      " INITIALIZATION \n",
      " PWSCF Version   :  v.7.1\n",
      " MPI processes   :  16\n",
      " Threads / MPI   :  1\n",
      " Num nodes       :  1\n",
      "\n",
      " CHEMISTRY \n",
      " XC Functional   :  BEEF-VDW\n",
      " Num of Atoms    :  30\n",
      " Num electrons   :  529.0\n",
      " Cutoff Energy   :  60.0\n",
      " Cutoff Density  :  240.0\n",
      " List of Symbols :  ['Cu', 'Cu', 'Cu', 'Cu', 'Cu', 'Cu', 'Cu', 'Cu', 'Cu', 'Cu', 'Cu', 'Cu', 'Cu', 'Cu', 'Cu', 'Cu', 'Cu', 'Cu', 'Cu', 'Cu', 'Cu', 'Cu', 'Cu', 'Cu', 'Cu', 'Cu', 'Cu', 'C', 'O', 'O']\n",
      " List of Coords  :  [[2.38576714382, 1.377422385, 24.566428796540002], [7.1573, 1.377422385, 24.566428796540002], [11.928832856180001, 1.377422385, 24.566428796540002], [4.77153285618, 5.509692402920001, 24.566428796540002], [9.54306714382, 5.509692402920001, 24.566428796540002], [14.3146, 5.509692402920001, 24.566428796540002], [7.1573, 9.64196098938, 24.566428796540002], [11.928832856180001, 9.64196098938, 24.566428796540002], [16.70036714382, 9.64196098938, 24.566428796540002], [-0.0, 2.7548462014600004, 28.462370494300004], [4.77153285618, 2.7548462014600004, 28.462370494300004], [9.54306714382, 2.7548462014600004, 28.462370494300004], [2.38576714382, 6.88711478792, 28.462370494300004], [7.1573, 6.88711478792, 28.462370494300004], [11.928832856180001, 6.88711478792, 28.462370494300004], [4.77153285618, 11.019384805840001, 28.462370494300004], [9.54306714382, 11.019384805840001, 28.462370494300004], [14.3146, 11.019384805840001, 28.462370494300004], [0.0, 0.0, 32.52029906858], [4.77161731232, 9.590782e-05, 32.519249808400005], [9.54298268768, 9.590782e-05, 32.519249808400005], [2.38589168084, 4.132294352740001, 32.519249808400005], [7.1573, 4.13226858646, 32.5202375158], [11.92870831916, 4.132294352740001, 32.519249808400005], [4.7715743685200005, 8.264416930280001, 32.519249808400005], [9.54302563148, 8.264416930280001, 32.519249808400005], [14.3146, 8.26453860438, 32.51943303528], [0.0, 0.0, 39.13433852668], [2.19323863674, 0.0, 39.13433852668], [-2.19323863674, 0.0, 39.13433852668]]\n",
      " Lattice param   :  14.3146\n",
      " Cell param      :  [[14.3146, 0.0, 0.0], [7.1573, 12.396801465000001, 0.0], [0.0, 0.0, 56.92474098860001]]\n",
      " Cell axes       :  [14.3146, 14.314594994362439, 56.92474098860001]\n",
      " Cell angles     :  [90.0, 90.0, 59.999988432423876]\n",
      "\n",
      " PROFILE TIMING  :\n",
      "   CPU     time  :  168.84\n",
      "   WALL    time  :  12.17\n",
      "   Init    time  :  10.18\n",
      " Elecs CPU  time :  158.29\n",
      " Elecs Wall time :  177.15\n",
      " cbands CPU time :  149.66\n",
      " cbands Wall time:  167.16\n",
      " sum ba CPU time :  6.09\n",
      " sum ba Wall time:  7.07\n"
     ]
    }
   ],
   "source": [
    "printQE_info(qe)"
   ]
  },
  {
   "cell_type": "code",
   "execution_count": null,
   "id": "9f009ec1",
   "metadata": {},
   "outputs": [],
   "source": []
  }
 ],
 "metadata": {
  "kernelspec": {
   "display_name": "Python 3 (ipykernel)",
   "language": "python",
   "name": "python3"
  },
  "language_info": {
   "codemirror_mode": {
    "name": "ipython",
    "version": 3
   },
   "file_extension": ".py",
   "mimetype": "text/x-python",
   "name": "python",
   "nbconvert_exporter": "python",
   "pygments_lexer": "ipython3",
   "version": "3.8.10"
  }
 },
 "nbformat": 4,
 "nbformat_minor": 5
}
