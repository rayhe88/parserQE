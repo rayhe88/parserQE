{
 "cells": [
  {
   "cell_type": "code",
   "execution_count": 1,
   "id": "91af8f29",
   "metadata": {},
   "outputs": [],
   "source": [
    "from parserQE.parser import loadQE, printQE_info"
   ]
  },
  {
   "cell_type": "code",
   "execution_count": 10,
   "id": "267449dd",
   "metadata": {},
   "outputs": [
    {
     "name": "stdout",
     "output_type": "stream",
     "text": [
      "The file NODONE.pwo did not finish correctly!\n"
     ]
    }
   ],
   "source": [
    "qe = loadQE(\"NODONE.pwo\")"
   ]
  },
  {
   "cell_type": "code",
   "execution_count": 9,
   "id": "96785d40",
   "metadata": {},
   "outputs": [],
   "source": [
    "printQE_info(qe)"
   ]
  },
  {
   "cell_type": "code",
   "execution_count": 4,
   "id": "9f009ec1",
   "metadata": {
    "scrolled": true
   },
   "outputs": [
    {
     "name": "stdout",
     "output_type": "stream",
     "text": [
      "Cu     2.385767   1.377422  24.566429\n",
      "Cu     7.157300   1.377422  24.566429\n",
      "Cu    11.928833   1.377422  24.566429\n",
      "Cu     4.771533   5.509692  24.566429\n",
      "Cu     9.543067   5.509692  24.566429\n",
      "Cu    14.314600   5.509692  24.566429\n",
      "Cu     7.157300   9.641961  24.566429\n",
      "Cu    11.928833   9.641961  24.566429\n",
      "Cu    16.700367   9.641961  24.566429\n",
      "Cu    -0.000000   2.754846  28.462370\n",
      "Cu     4.771533   2.754846  28.462370\n",
      "Cu     9.543067   2.754846  28.462370\n",
      "Cu     2.385767   6.887115  28.462370\n",
      "Cu     7.157300   6.887115  28.462370\n",
      "Cu    11.928833   6.887115  28.462370\n",
      "Cu     4.771533  11.019385  28.462370\n",
      "Cu     9.543067  11.019385  28.462370\n",
      "Cu    14.314600  11.019385  28.462370\n",
      "Cu     0.000000   0.000000  32.520299\n",
      "Cu     4.771617   0.000096  32.519250\n",
      "Cu     9.542983   0.000096  32.519250\n",
      "Cu     2.385892   4.132294  32.519250\n",
      "Cu     7.157300   4.132269  32.520238\n",
      "Cu    11.928708   4.132294  32.519250\n",
      "Cu     4.771574   8.264417  32.519250\n",
      "Cu     9.543026   8.264417  32.519250\n",
      "Cu    14.314600   8.264539  32.519433\n",
      "C      0.000000   0.000000  39.134339\n",
      "O      2.193239   0.000000  39.134339\n",
      "O     -2.193239   0.000000  39.134339\n"
     ]
    }
   ],
   "source": [
    "\n",
    "for i in range(qe.chem.natoms):\n",
    "    print(\"{0:3s}  {1:10.6f} {2:10.6f} {3:10.6f}\".format(qe.chem.symb[i], qe.chem.coors[i][0],qe.chem.coors[i][1],qe.chem.coors[i][2]\n",
    "                                   ))"
   ]
  },
  {
   "cell_type": "code",
   "execution_count": 5,
   "id": "f64b2e3b",
   "metadata": {},
   "outputs": [
    {
     "data": {
      "text/plain": [
       "dict_keys(['fermi', 'total', 'internal', 'smearing', 'hcore', 'hartree', 'xc', 'ewald', 'dispersion'])"
      ]
     },
     "execution_count": 5,
     "metadata": {},
     "output_type": "execute_result"
    }
   ],
   "source": [
    "qe.energy.keys()"
   ]
  },
  {
   "cell_type": "code",
   "execution_count": 6,
   "id": "189b91d6",
   "metadata": {},
   "outputs": [],
   "source": [
    "qe.energy.total"
   ]
  },
  {
   "cell_type": "code",
   "execution_count": 7,
   "id": "034dd257",
   "metadata": {},
   "outputs": [],
   "source": [
    "qe.energy.internal"
   ]
  },
  {
   "cell_type": "code",
   "execution_count": null,
   "id": "db643c92",
   "metadata": {},
   "outputs": [],
   "source": []
  },
  {
   "cell_type": "code",
   "execution_count": null,
   "id": "1b12d716",
   "metadata": {},
   "outputs": [],
   "source": []
  },
  {
   "cell_type": "code",
   "execution_count": null,
   "id": "a771a19a",
   "metadata": {},
   "outputs": [],
   "source": []
  }
 ],
 "metadata": {
  "kernelspec": {
   "display_name": "Python 3 (ipykernel)",
   "language": "python",
   "name": "python3"
  },
  "language_info": {
   "codemirror_mode": {
    "name": "ipython",
    "version": 3
   },
   "file_extension": ".py",
   "mimetype": "text/x-python",
   "name": "python",
   "nbconvert_exporter": "python",
   "pygments_lexer": "ipython3",
   "version": "3.10.6"
  }
 },
 "nbformat": 4,
 "nbformat_minor": 5
}
