{
 "cells": [
  {
   "cell_type": "code",
   "execution_count": 7,
   "id": "91af8f29",
   "metadata": {},
   "outputs": [],
   "source": [
    "from parserQE.parser import loadQE, printQE_info"
   ]
  },
  {
   "cell_type": "code",
   "execution_count": 11,
   "id": "267449dd",
   "metadata": {},
   "outputs": [
    {
     "data": {
      "text/plain": [
       "dict_keys(['funct', 'natoms', 'nelect', 'symb', 'coors', 'alat', 'cell', 'axes', 'angles', 'ecut', 'dencut'])"
      ]
     },
     "execution_count": 11,
     "metadata": {},
     "output_type": "execute_result"
    }
   ],
   "source": [
    "qe = loadQE(\"data/16.pwo\")\n",
    "qe.chem.keys()\n"
   ]
  },
  {
   "cell_type": "code",
   "execution_count": 9,
   "id": "96785d40",
   "metadata": {},
   "outputs": [
    {
     "name": "stdout",
     "output_type": "stream",
     "text": [
      " STATUS\n",
      " The job is done :  True\n",
      " Iterations      :  1\n",
      " Size in list scf:  1\n",
      " Times in scf    :  [177.1]\n",
      " Name's inp file :  example.pwi\n",
      " Acceleration GPU:  ACTIVE\n",
      "\n",
      " INITIALIZATION \n",
      " PWSCF Version   :  v.7.1\n",
      " MPI processes   :  16\n",
      " Threads / MPI   :  1\n",
      " Num nodes       :  1\n",
      "\n",
      " CHEMISTRY \n",
      " XC Functional   :  BEEF-VDW\n",
      " Num of Atoms    :  30\n",
      " Num electrons   :  529.0\n",
      " Cutoff Energy   :  60.0\n",
      " Cutoff Density  :  240.0\n",
      " List of Symbols :  ['Cu', 'Cu', 'Cu', 'Cu', 'Cu', 'Cu', 'Cu', 'Cu', 'Cu', 'Cu', 'Cu', 'Cu', 'Cu', 'Cu', 'Cu', 'Cu', 'Cu', 'Cu', 'Cu', 'Cu', 'Cu', 'Cu', 'Cu', 'Cu', 'Cu', 'Cu', 'Cu', 'C', 'O', 'O']\n",
      " List of Coords  :  [[2.38576714382, 1.377422385, 24.566428796540002], [7.1573, 1.377422385, 24.566428796540002], [11.928832856180001, 1.377422385, 24.566428796540002], [4.77153285618, 5.509692402920001, 24.566428796540002], [9.54306714382, 5.509692402920001, 24.566428796540002], [14.3146, 5.509692402920001, 24.566428796540002], [7.1573, 9.64196098938, 24.566428796540002], [11.928832856180001, 9.64196098938, 24.566428796540002], [16.70036714382, 9.64196098938, 24.566428796540002], [-0.0, 2.7548462014600004, 28.462370494300004], [4.77153285618, 2.7548462014600004, 28.462370494300004], [9.54306714382, 2.7548462014600004, 28.462370494300004], [2.38576714382, 6.88711478792, 28.462370494300004], [7.1573, 6.88711478792, 28.462370494300004], [11.928832856180001, 6.88711478792, 28.462370494300004], [4.77153285618, 11.019384805840001, 28.462370494300004], [9.54306714382, 11.019384805840001, 28.462370494300004], [14.3146, 11.019384805840001, 28.462370494300004], [0.0, 0.0, 32.52029906858], [4.77161731232, 9.590782e-05, 32.519249808400005], [9.54298268768, 9.590782e-05, 32.519249808400005], [2.38589168084, 4.132294352740001, 32.519249808400005], [7.1573, 4.13226858646, 32.5202375158], [11.92870831916, 4.132294352740001, 32.519249808400005], [4.7715743685200005, 8.264416930280001, 32.519249808400005], [9.54302563148, 8.264416930280001, 32.519249808400005], [14.3146, 8.26453860438, 32.51943303528], [0.0, 0.0, 39.13433852668], [2.19323863674, 0.0, 39.13433852668], [-2.19323863674, 0.0, 39.13433852668]]\n",
      " Lattice param   :  14.3146\n",
      " Cell param      :  [[14.3146, 0.0, 0.0], [7.1573, 12.396801465000001, 0.0], [0.0, 0.0, 56.92474098860001]]\n",
      " Cell axes       :  [14.3146, 14.314594994362439, 56.92474098860001]\n",
      " Cell angles     :  [90.0, 90.0, 59.999988432423876]\n",
      "\n",
      " PROFILE TIMING  :\n",
      "   CPU     time  :  168.84\n",
      "   WALL    time  :  12.17\n",
      "   Init    time  :  10.18\n",
      " Elecs CPU  time :  158.29\n",
      " Elecs Wall time :  177.15\n",
      " cbands CPU time :  149.66\n",
      " cbands Wall time:  167.16\n",
      " sum ba CPU time :  6.09\n",
      " sum ba Wall time:  7.07\n"
     ]
    }
   ],
   "source": [
    "printQE_info(qe)"
   ]
  },
  {
   "cell_type": "code",
   "execution_count": 26,
   "id": "9f009ec1",
   "metadata": {
    "scrolled": true
   },
   "outputs": [
    {
     "name": "stdout",
     "output_type": "stream",
     "text": [
      "Cu     2.385767   1.377422  24.566429\n",
      "Cu     7.157300   1.377422  24.566429\n",
      "Cu    11.928833   1.377422  24.566429\n",
      "Cu     4.771533   5.509692  24.566429\n",
      "Cu     9.543067   5.509692  24.566429\n",
      "Cu    14.314600   5.509692  24.566429\n",
      "Cu     7.157300   9.641961  24.566429\n",
      "Cu    11.928833   9.641961  24.566429\n",
      "Cu    16.700367   9.641961  24.566429\n",
      "Cu    -0.000000   2.754846  28.462370\n",
      "Cu     4.771533   2.754846  28.462370\n",
      "Cu     9.543067   2.754846  28.462370\n",
      "Cu     2.385767   6.887115  28.462370\n",
      "Cu     7.157300   6.887115  28.462370\n",
      "Cu    11.928833   6.887115  28.462370\n",
      "Cu     4.771533  11.019385  28.462370\n",
      "Cu     9.543067  11.019385  28.462370\n",
      "Cu    14.314600  11.019385  28.462370\n",
      "Cu     0.000000   0.000000  32.520299\n",
      "Cu     4.771617   0.000096  32.519250\n",
      "Cu     9.542983   0.000096  32.519250\n",
      "Cu     2.385892   4.132294  32.519250\n",
      "Cu     7.157300   4.132269  32.520238\n",
      "Cu    11.928708   4.132294  32.519250\n",
      "Cu     4.771574   8.264417  32.519250\n",
      "Cu     9.543026   8.264417  32.519250\n",
      "Cu    14.314600   8.264539  32.519433\n",
      "C      0.000000   0.000000  39.134339\n",
      "O      2.193239   0.000000  39.134339\n",
      "O     -2.193239   0.000000  39.134339\n"
     ]
    }
   ],
   "source": [
    "\n",
    "for i in range(qe.chem.natoms):\n",
    "    print(\"{0:3s}  {1:10.6f} {2:10.6f} {3:10.6f}\".format(qe.chem.symb[i], qe.chem.coors[i][0],qe.chem.coors[i][1],qe.chem.coors[i][2]\n",
    "                                   ))"
   ]
  },
  {
   "cell_type": "code",
   "execution_count": 46,
   "id": "d7bc2515",
   "metadata": {},
   "outputs": [
    {
     "name": "stdout",
     "output_type": "stream",
     "text": [
      "   7.57496        0.0        0.0 \n",
      "   3.78748    6.56011        0.0 \n",
      "       0.0        0.0    30.1233 \n"
     ]
    }
   ],
   "source": [
    "\n",
    "\n",
    "for i in range(3):\n",
    "    for j in range(3):\n",
    "        print(\"{0:10.6}\".format(qe.chem.cell[i][j]*0.529177249),end = ' ')\n",
    "    print()"
   ]
  },
  {
   "cell_type": "code",
   "execution_count": 28,
   "id": "7efa1c45",
   "metadata": {},
   "outputs": [
    {
     "name": "stdout",
     "output_type": "stream",
     "text": [
      "4.386478\n"
     ]
    }
   ],
   "source": [
    "import numpy as np\n",
    "\n",
    "r1 = [ 2.193239,   0.000000,  39.134339]\n",
    "r2 = [-2.193239,   0.000000,  39.134339]\n",
    "dist = np.sqrt((r2[0]-r1[0])**2 +(r2[1]-r1[1])**2 + (r2[2]-r1[2])**2)\n",
    "print(dist)"
   ]
  },
  {
   "cell_type": "code",
   "execution_count": 30,
   "id": "007e8c6a",
   "metadata": {},
   "outputs": [
    {
     "name": "stdout",
     "output_type": "stream",
     "text": [
      "18.76143\n"
     ]
    }
   ],
   "source": [
    "\n",
    "r1 = [-2.14938,   11.84056,   19.55918]\n",
    "r2 = [16.61205,   11.84056,   19.55918]\n",
    "dist = np.sqrt((r2[0]-r1[0])**2 +(r2[1]-r1[1])**2 + (r2[2]-r1[2])**2)\n",
    "print(dist)"
   ]
  },
  {
   "cell_type": "code",
   "execution_count": 32,
   "id": "d7df4522",
   "metadata": {},
   "outputs": [
    {
     "name": "stdout",
     "output_type": "stream",
     "text": [
      "9.928126\n"
     ]
    }
   ],
   "source": [
    "\n",
    "r1 = [9.350543,   12.396812,   39.134355]\n",
    "r2 = [19.278669,   12.396812,   39.134355]\n",
    "dist = np.sqrt((r2[0]-r1[0])**2 +(r2[1]-r1[1])**2 + (r2[2]-r1[2])**2)\n",
    "print(dist)"
   ]
  },
  {
   "cell_type": "code",
   "execution_count": 33,
   "id": "3499f074",
   "metadata": {},
   "outputs": [
    {
     "data": {
      "text/plain": [
       "2.2633479525031244"
      ]
     },
     "execution_count": 33,
     "metadata": {},
     "output_type": "execute_result"
    }
   ],
   "source": [
    "9.928126/4.386478"
   ]
  },
  {
   "cell_type": "code",
   "execution_count": 34,
   "id": "b8f7e0a2",
   "metadata": {},
   "outputs": [
    {
     "data": {
      "text/plain": [
       "1.8897252109814078"
      ]
     },
     "execution_count": 34,
     "metadata": {},
     "output_type": "execute_result"
    }
   ],
   "source": [
    "18.76143/9.928126"
   ]
  },
  {
   "cell_type": "code",
   "execution_count": null,
   "id": "f64b2e3b",
   "metadata": {},
   "outputs": [],
   "source": []
  }
 ],
 "metadata": {
  "kernelspec": {
   "display_name": "Python 3 (ipykernel)",
   "language": "python",
   "name": "python3"
  },
  "language_info": {
   "codemirror_mode": {
    "name": "ipython",
    "version": 3
   },
   "file_extension": ".py",
   "mimetype": "text/x-python",
   "name": "python",
   "nbconvert_exporter": "python",
   "pygments_lexer": "ipython3",
   "version": "3.10.6"
  }
 },
 "nbformat": 4,
 "nbformat_minor": 5
}
