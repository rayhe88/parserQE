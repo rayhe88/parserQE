{
 "cells": [
  {
   "cell_type": "code",
   "execution_count": 162,
   "id": "f9738ba9",
   "metadata": {},
   "outputs": [],
   "source": [
    "import re\n",
    "\n",
    "class myTime:       \n",
    "    def __init__(self, hours, minutes, seconds):\n",
    "        self.hours = hours\n",
    "        self.minutes = minutes\n",
    "        self.seconds = seconds\n",
    "        \n",
    "    def getTotalSeconds(self):\n",
    "        time_s = self.hours * 3600 + self.minutes * 60 + self.seconds\n",
    "        return time_s\n",
    "    \n",
    "    def getTimeStandar(self):\n",
    "        time_string = \"%02d:%02d:%05.2f\"%(self.hours,self.minutes,self.seconds)\n",
    "        return time_string\n",
    "    \n",
    "    def printTimeStandar(self):\n",
    "        print(\"%02d:%02d:%05.2f\"%(self.hours,self.minutes,self.seconds))\n",
    "\n",
    "def getTotalTimefromLine(line):\n",
    "    x = re.search(r\"PWSCF  \", line)\n",
    "    if x is not None:\n",
    "        no_spaces = []\n",
    "        y = re.split('CPU',x.string)\n",
    "        y = re.split(' ',y[0])\n",
    "        for string in y:\n",
    "            if string != '':\n",
    "                no_spaces.append(string)\n",
    "        string = no_spaces[0]\n",
    "        for i in range(len(no_spaces)-1):\n",
    "            string = string + no_spaces[i+1]\n",
    "            \n",
    "        ho = re.findall(r\"(\\d+)h\",string)\n",
    "        mi = re.findall(r\"(\\d+)m\",string)\n",
    "        se = re.findall(r\"([0-9.0-9]*\\d+)s\",string)\n",
    "        \n",
    "        if ho:\n",
    "            h = int(ho[0])\n",
    "        else:\n",
    "            h = 0\n",
    "        if mi:\n",
    "            m = int(mi[0])\n",
    "        else:\n",
    "            m = 0\n",
    "        if se:\n",
    "            s = float(se[0])\n",
    "        else:\n",
    "            s = 0\n",
    "  \n",
    "        time = myTime(h, m, s)\n",
    "           \n",
    "        return time\n",
    "    return None\n",
    "       \n",
    "    \n",
    "\n",
    "def getTotalTime(text):\n",
    "    for line in text:\n",
    "        time = getTotalTimefromLine(line)\n",
    "        if time is not None:\n",
    "            return time\n",
    "        \n",
    "    return None\n",
    "    \n",
    "        \n",
    "        #print(\" Time: %s is equal to %.2f seconds \"%(time.getTimeStandar(),time.getTotalSeconds()))"
   ]
  },
  {
   "cell_type": "code",
   "execution_count": 163,
   "id": "19cc8cd2",
   "metadata": {},
   "outputs": [
    {
     "name": "stdout",
     "output_type": "stream",
     "text": [
      "00:01:04.78\n"
     ]
    }
   ],
   "source": [
    "t0 = getTotalTimefromLine(\"PWSCF        :   1m 4.78s CPU   4h 1m28.39s WALL\")\n",
    "t0.printTimeStandar()"
   ]
  },
  {
   "cell_type": "code",
   "execution_count": 164,
   "id": "5e076c01",
   "metadata": {},
   "outputs": [
    {
     "name": "stdout",
     "output_type": "stream",
     "text": [
      "00:01:09.43\n",
      "00:01:24.78\n",
      "00:01:04.78\n",
      "00:01:17.83\n",
      "00:01:09.04\n",
      "00:02:12.48\n",
      "04:40:00.00\n"
     ]
    }
   ],
   "source": [
    "test_strings=[\n",
    "    \"PWSCF        :   1m 9.43s CPU   1m10.76s WALL\",\n",
    "    \"PWSCF        :   1m24.78s CPU   1m28.39s WALL\",\n",
    "    \"PWSCF        :   1m 4.78s CPU   1m28.39s WALL\",\n",
    "    \"PWSCF        :   1m17.83s CPU   1m23.65s WALL\",\n",
    "    \"PWSCF        :   1m 9.04s CPU   1m14.94s WALL\",\n",
    "    \"PWSCF        :   2m12.48s CPU   2m41.74s WALL\",\n",
    "    \"PWSCF        :      4h40m CPU      3h28m WALL\",\n",
    "]\n",
    "\n",
    "for string in test_strings:\n",
    "    t = getTotalTimefromLine(string)\n",
    "    t.printTimeStandar()"
   ]
  },
  {
   "cell_type": "code",
   "execution_count": 165,
   "id": "64b985c8",
   "metadata": {},
   "outputs": [
    {
     "name": "stdout",
     "output_type": "stream",
     "text": [
      "00:01:24.78\n",
      "84.78\n"
     ]
    }
   ],
   "source": [
    "import sys\n",
    "with open(\"/home/rayhe/QTest/testQE_00/0.3.out\",\"r\") as file:\n",
    "    text = file.readlines()\n",
    "\n",
    "    tot_time = getTotalTime(text)\n",
    "    \n",
    "print(tot_time.getTimeStandar())\n",
    "print(tot_time.getTotalSeconds())"
   ]
  },
  {
   "cell_type": "code",
   "execution_count": 166,
   "id": "0d430481",
   "metadata": {},
   "outputs": [
    {
     "data": {
      "text/plain": [
       "(0, 0, 1.5)"
      ]
     },
     "execution_count": 166,
     "metadata": {},
     "output_type": "execute_result"
    }
   ],
   "source": []
  },
  {
   "cell_type": "code",
   "execution_count": null,
   "id": "5901f92b",
   "metadata": {},
   "outputs": [],
   "source": []
  },
  {
   "cell_type": "code",
   "execution_count": null,
   "id": "b0d7eecc",
   "metadata": {},
   "outputs": [],
   "source": []
  }
 ],
 "metadata": {
  "kernelspec": {
   "display_name": "Python 3 (ipykernel)",
   "language": "python",
   "name": "python3"
  },
  "language_info": {
   "codemirror_mode": {
    "name": "ipython",
    "version": 3
   },
   "file_extension": ".py",
   "mimetype": "text/x-python",
   "name": "python",
   "nbconvert_exporter": "python",
   "pygments_lexer": "ipython3",
   "version": "3.10.6"
  }
 },
 "nbformat": 4,
 "nbformat_minor": 5
}
